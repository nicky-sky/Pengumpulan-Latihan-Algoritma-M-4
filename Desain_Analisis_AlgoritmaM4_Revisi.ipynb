{
  "nbformat": 4,
  "nbformat_minor": 0,
  "metadata": {
    "colab": {
      "provenance": []
    },
    "kernelspec": {
      "name": "python3",
      "display_name": "Python 3"
    },
    "language_info": {
      "name": "python"
    }
  },
  "cells": [
    {
      "cell_type": "markdown",
      "source": [
        "# **Fungsi Swap**"
      ],
      "metadata": {
        "id": "wAUj7Qj2--fP"
      }
    },
    {
      "cell_type": "code",
      "execution_count": null,
      "metadata": {
        "id": "kx72sEgl-x5X",
        "colab": {
          "base_uri": "https://localhost:8080/"
        },
        "outputId": "a70e213f-da35-4f32-e66d-86af40bd4842"
      },
      "outputs": [
        {
          "output_type": "stream",
          "name": "stdout",
          "text": [
            "x = 10 , y = 5\n"
          ]
        }
      ],
      "source": [
        "def swap(a, b):\n",
        "    temp = a\n",
        "    a = b\n",
        "    b = temp\n",
        "    return a, b\n",
        "\n",
        "# Contoh penggunaan\n",
        "x, y = swap(5, 10)\n",
        "print(\"x =\", x, \", y =\", y)\n"
      ]
    },
    {
      "cell_type": "markdown",
      "source": [
        "# **Bubble Sort**"
      ],
      "metadata": {
        "id": "PnzfAsoh--CT"
      }
    },
    {
      "cell_type": "code",
      "source": [
        "def bubble_sort(arr):\n",
        "    n = len(arr)\n",
        "    for i in range(n):\n",
        "        for j in range(0, n - i - 1):\n",
        "            if arr[j] > arr[j + 1]:\n",
        "                arr[j], arr[j + 1] = arr[j + 1], arr[j]\n",
        "    return arr\n",
        "\n",
        "data = [100, 20, 60, 90, 40, 30, 10]\n",
        "print(\"Hasil Bubble Sort:\", bubble_sort(data))\n"
      ],
      "metadata": {
        "id": "xsO8qq1z-9FP",
        "colab": {
          "base_uri": "https://localhost:8080/"
        },
        "outputId": "99b46c24-8c17-4c4e-a38d-fa8578ec9595"
      },
      "execution_count": null,
      "outputs": [
        {
          "output_type": "stream",
          "name": "stdout",
          "text": [
            "Hasil Bubble Sort: [10, 20, 30, 40, 60, 90, 100]\n"
          ]
        }
      ]
    },
    {
      "cell_type": "markdown",
      "source": [
        "# **Insertion Sort**"
      ],
      "metadata": {
        "id": "5jaKtnAT_N6U"
      }
    },
    {
      "cell_type": "code",
      "source": [
        "def insertion_sort(arr):\n",
        "    for i in range(1, len(arr)):\n",
        "        key = arr[i]\n",
        "        j = i - 1\n",
        "        while j >= 0 and arr[j] > key:\n",
        "            arr[j + 1] = arr[j]\n",
        "            j -= 1\n",
        "        arr[j + 1] = key\n",
        "    return arr\n",
        "\n",
        "data = [89, 12, 57, 16, 25, 11, 75]\n",
        "print(\"Hasil Insertion Sort:\", insertion_sort(data))\n"
      ],
      "metadata": {
        "id": "qp8a849h_OCi",
        "colab": {
          "base_uri": "https://localhost:8080/"
        },
        "outputId": "cb52ce08-66ef-4cae-f9c6-c2600c2c14b4"
      },
      "execution_count": null,
      "outputs": [
        {
          "output_type": "stream",
          "name": "stdout",
          "text": [
            "Hasil Insertion Sort: [11, 12, 16, 25, 57, 75, 89]\n"
          ]
        }
      ]
    },
    {
      "cell_type": "markdown",
      "source": [
        "# **Selection Sort**"
      ],
      "metadata": {
        "id": "HOZJqKmE_OX7"
      }
    },
    {
      "cell_type": "code",
      "source": [
        "def selection_sort(arr):\n",
        "    for i in range(len(arr)):\n",
        "        min_idx = i\n",
        "        for j in range(i + 1, len(arr)):\n",
        "            if arr[j] < arr[min_idx]:\n",
        "                min_idx = j\n",
        "        arr[i], arr[min_idx] = arr[min_idx], arr[i]\n",
        "    return arr\n",
        "\n",
        "data = [89, 12, 57, 16, 25]\n",
        "print(\"Hasil Selection Sort:\", selection_sort(data))\n"
      ],
      "metadata": {
        "id": "hvtvrcCQ_Oec",
        "colab": {
          "base_uri": "https://localhost:8080/"
        },
        "outputId": "f3d6a139-7609-47eb-973e-0f0477623d1f"
      },
      "execution_count": null,
      "outputs": [
        {
          "output_type": "stream",
          "name": "stdout",
          "text": [
            "Hasil Selection Sort: [12, 16, 25, 57, 89]\n"
          ]
        }
      ]
    },
    {
      "cell_type": "markdown",
      "source": [
        "# **Linear Search**"
      ],
      "metadata": {
        "id": "o40cf9H6_O5b"
      }
    },
    {
      "cell_type": "code",
      "source": [
        "def linear_search(arr, target):\n",
        "    for i in range(len(arr)):\n",
        "        if arr[i] == target:\n",
        "            return i\n",
        "    return -1\n",
        "\n",
        "data = ['y', 'u', 'i', 'w', 'o', 'a', 'q', 'u', 'j', 'p']\n",
        "print(\"Index 'a' dengan Linear Search:\", linear_search(data, 'a'))\n"
      ],
      "metadata": {
        "id": "6yQ5m7op_PAK",
        "colab": {
          "base_uri": "https://localhost:8080/"
        },
        "outputId": "fdaa9453-9b91-4ba8-9ec8-faebf178695a"
      },
      "execution_count": null,
      "outputs": [
        {
          "output_type": "stream",
          "name": "stdout",
          "text": [
            "Index 'a' dengan Linear Search: 5\n"
          ]
        }
      ]
    },
    {
      "cell_type": "markdown",
      "source": [
        "# **Binary Search**"
      ],
      "metadata": {
        "id": "OlimsAf5LP43"
      }
    },
    {
      "cell_type": "code",
      "source": [
        "def binary_search(arr, target):\n",
        "    low, high = 0, len(arr) - 1\n",
        "    while low <= high:\n",
        "        mid = (low + high) // 2\n",
        "        if arr[mid] == target:\n",
        "            return mid\n",
        "        elif arr[mid] < target:\n",
        "            low = mid + 1\n",
        "        else:\n",
        "            high = mid - 1\n",
        "    return -1\n",
        "\n",
        "data = sorted(['y', 'u', 'i', 'w', 'o', 'a', 'q', 'u', 'j', 'p'])\n",
        "print(\"Index 'a' dengan Binary Search:\", binary_search(data, 'a'))\n"
      ],
      "metadata": {
        "colab": {
          "base_uri": "https://localhost:8080/"
        },
        "id": "iTHqIXp3LQAx",
        "outputId": "9864e08b-b541-4c3f-9244-5234ef1cd5ca"
      },
      "execution_count": null,
      "outputs": [
        {
          "output_type": "stream",
          "name": "stdout",
          "text": [
            "Index 'a' dengan Binary Search: 0\n"
          ]
        }
      ]
    },
    {
      "cell_type": "markdown",
      "source": [
        "# **Interpolation Search**"
      ],
      "metadata": {
        "id": "69a9Bt6GLQog"
      }
    },
    {
      "cell_type": "code",
      "source": [
        "def interpolation_search(arr, target):\n",
        "    low, high = 0, len(arr) - 1\n",
        "    while low <= high and target >= arr[low] and target <= arr[high]:\n",
        "        pos = low + ((high - low) // (arr[high] - arr[low]) * (target - arr[low]))\n",
        "        if arr[pos] == target:\n",
        "            return pos\n",
        "        if arr[pos] < target:\n",
        "            low = pos + 1\n",
        "        else:\n",
        "            high = pos - 1\n",
        "    return -1\n",
        "\n",
        "data = [10, 20, 30, 40, 50, 60, 70, 80, 90]\n",
        "print(\"Index 60 dengan Interpolation Search:\", interpolation_search(data, 60))\n"
      ],
      "metadata": {
        "colab": {
          "base_uri": "https://localhost:8080/"
        },
        "id": "9mfOPDBgLQtb",
        "outputId": "f9501e0d-5bc2-4e79-98e1-499562794ecb"
      },
      "execution_count": null,
      "outputs": [
        {
          "output_type": "stream",
          "name": "stdout",
          "text": [
            "Index 60 dengan Interpolation Search: 5\n"
          ]
        }
      ]
    },
    {
      "cell_type": "markdown",
      "source": [
        "# **LATIHAN Interpolation**"
      ],
      "metadata": {
        "id": "VE5rZtHa-4Pq"
      }
    },
    {
      "cell_type": "code",
      "source": [
        "def interpolation_search(arr, x):\n",
        "    low = 0\n",
        "    high = len(arr) - 1\n",
        "\n",
        "    while low <= high and ord(x) >= ord(arr[low]) and ord(x) <= ord(arr[high]):\n",
        "        pos = low + ((ord(x) - ord(arr[low])) * (high - low) //\n",
        "                     (ord(arr[high]) - ord(arr[low])))\n",
        "        if arr[pos] == x:\n",
        "            return pos\n",
        "        elif ord(arr[pos]) < ord(x):\n",
        "            low = pos + 1\n",
        "        else:\n",
        "            high = pos - 1\n",
        "\n",
        "    return -1\n",
        "\n",
        "\n",
        "\n",
        "letters = ['y', 'u', 'i', 'w', 'o', 'a', 'q', 'u', 'j', 'p']\n",
        "\n",
        "\n",
        "letters.sort()\n",
        "print(\"Deret terurut:\", letters)\n",
        "\n",
        "target = 'u'\n",
        "index = interpolation_search(letters, target)\n",
        "\n",
        "if index != -1:\n",
        "    print(f\"Huruf '{target}' ditemukan pada indeks ke-{index}\")\n",
        "else:\n",
        "    print(f\"Huruf '{target}' tidak ditemukan.\")\n"
      ],
      "metadata": {
        "colab": {
          "base_uri": "https://localhost:8080/"
        },
        "id": "H2Lc59hh-4Vt",
        "outputId": "2bd4e06a-dbcd-4283-e471-c6cb646ca52a"
      },
      "execution_count": 1,
      "outputs": [
        {
          "output_type": "stream",
          "name": "stdout",
          "text": [
            "Deret terurut: ['a', 'i', 'j', 'o', 'p', 'q', 'u', 'u', 'w', 'y']\n",
            "Huruf 'u' ditemukan pada indeks ke-7\n"
          ]
        }
      ]
    }
  ]
}